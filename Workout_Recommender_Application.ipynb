{
  "nbformat": 4,
  "nbformat_minor": 0,
  "metadata": {
    "colab": {
      "provenance": []
    },
    "kernelspec": {
      "name": "python3",
      "display_name": "Python 3"
    },
    "language_info": {
      "name": "python"
    }
  },
  "cells": [
    {
      "cell_type": "markdown",
      "source": [
        "#**Personalized Workout Recommender**\n",
        "\n",
        "\n",
        "\n",
        "-Python Notebook: Application\n",
        "\n",
        "* This project aims to create a personalized workout recommender system based on user input. Users describe their day and select a time of day (morning, afternoon, evening). Based on their mood and the time, the system suggests suitable workouts. The project uses Hugging Face’s sentiment analysis to classify the input text and a DataFrame to store possible workout suggestions\n"
      ],
      "metadata": {
        "id": "ORedQXVUnGmf"
      }
    },
    {
      "cell_type": "markdown",
      "source": [
        "# 1. Setup and Dependencies"
      ],
      "metadata": {
        "id": "WFPMW4YcnzSm"
      }
    },
    {
      "cell_type": "code",
      "source": [
        "!pip install gradio"
      ],
      "metadata": {
        "colab": {
          "base_uri": "https://localhost:8080/"
        },
        "id": "kgvJaZwanTV1",
        "outputId": "964b1864-f9ff-41eb-81d2-40875c7a6584"
      },
      "execution_count": null,
      "outputs": [
        {
          "output_type": "stream",
          "name": "stdout",
          "text": [
            "Requirement already satisfied: gradio in /usr/local/lib/python3.10/dist-packages (4.44.0)\n",
            "Requirement already satisfied: aiofiles<24.0,>=22.0 in /usr/local/lib/python3.10/dist-packages (from gradio) (23.2.1)\n",
            "Requirement already satisfied: anyio<5.0,>=3.0 in /usr/local/lib/python3.10/dist-packages (from gradio) (3.7.1)\n",
            "Requirement already satisfied: fastapi<1.0 in /usr/local/lib/python3.10/dist-packages (from gradio) (0.114.2)\n",
            "Requirement already satisfied: ffmpy in /usr/local/lib/python3.10/dist-packages (from gradio) (0.4.0)\n",
            "Requirement already satisfied: gradio-client==1.3.0 in /usr/local/lib/python3.10/dist-packages (from gradio) (1.3.0)\n",
            "Requirement already satisfied: httpx>=0.24.1 in /usr/local/lib/python3.10/dist-packages (from gradio) (0.27.2)\n",
            "Requirement already satisfied: huggingface-hub>=0.19.3 in /usr/local/lib/python3.10/dist-packages (from gradio) (0.24.7)\n",
            "Requirement already satisfied: importlib-resources<7.0,>=1.3 in /usr/local/lib/python3.10/dist-packages (from gradio) (6.4.5)\n",
            "Requirement already satisfied: jinja2<4.0 in /usr/local/lib/python3.10/dist-packages (from gradio) (3.1.4)\n",
            "Requirement already satisfied: markupsafe~=2.0 in /usr/local/lib/python3.10/dist-packages (from gradio) (2.1.5)\n",
            "Requirement already satisfied: matplotlib~=3.0 in /usr/local/lib/python3.10/dist-packages (from gradio) (3.7.1)\n",
            "Requirement already satisfied: numpy<3.0,>=1.0 in /usr/local/lib/python3.10/dist-packages (from gradio) (1.26.4)\n",
            "Requirement already satisfied: orjson~=3.0 in /usr/local/lib/python3.10/dist-packages (from gradio) (3.10.7)\n",
            "Requirement already satisfied: packaging in /usr/local/lib/python3.10/dist-packages (from gradio) (24.1)\n",
            "Requirement already satisfied: pandas<3.0,>=1.0 in /usr/local/lib/python3.10/dist-packages (from gradio) (2.1.4)\n",
            "Requirement already satisfied: pillow<11.0,>=8.0 in /usr/local/lib/python3.10/dist-packages (from gradio) (9.4.0)\n",
            "Requirement already satisfied: pydantic>=2.0 in /usr/local/lib/python3.10/dist-packages (from gradio) (2.9.1)\n",
            "Requirement already satisfied: pydub in /usr/local/lib/python3.10/dist-packages (from gradio) (0.25.1)\n",
            "Requirement already satisfied: python-multipart>=0.0.9 in /usr/local/lib/python3.10/dist-packages (from gradio) (0.0.9)\n",
            "Requirement already satisfied: pyyaml<7.0,>=5.0 in /usr/local/lib/python3.10/dist-packages (from gradio) (6.0.2)\n",
            "Requirement already satisfied: ruff>=0.2.2 in /usr/local/lib/python3.10/dist-packages (from gradio) (0.6.5)\n",
            "Requirement already satisfied: semantic-version~=2.0 in /usr/local/lib/python3.10/dist-packages (from gradio) (2.10.0)\n",
            "Requirement already satisfied: tomlkit==0.12.0 in /usr/local/lib/python3.10/dist-packages (from gradio) (0.12.0)\n",
            "Requirement already satisfied: typer<1.0,>=0.12 in /usr/local/lib/python3.10/dist-packages (from gradio) (0.12.5)\n",
            "Requirement already satisfied: typing-extensions~=4.0 in /usr/local/lib/python3.10/dist-packages (from gradio) (4.12.2)\n",
            "Requirement already satisfied: urllib3~=2.0 in /usr/local/lib/python3.10/dist-packages (from gradio) (2.0.7)\n",
            "Requirement already satisfied: uvicorn>=0.14.0 in /usr/local/lib/python3.10/dist-packages (from gradio) (0.30.6)\n",
            "Requirement already satisfied: fsspec in /usr/local/lib/python3.10/dist-packages (from gradio-client==1.3.0->gradio) (2024.6.1)\n",
            "Requirement already satisfied: websockets<13.0,>=10.0 in /usr/local/lib/python3.10/dist-packages (from gradio-client==1.3.0->gradio) (12.0)\n",
            "Requirement already satisfied: idna>=2.8 in /usr/local/lib/python3.10/dist-packages (from anyio<5.0,>=3.0->gradio) (3.8)\n",
            "Requirement already satisfied: sniffio>=1.1 in /usr/local/lib/python3.10/dist-packages (from anyio<5.0,>=3.0->gradio) (1.3.1)\n",
            "Requirement already satisfied: exceptiongroup in /usr/local/lib/python3.10/dist-packages (from anyio<5.0,>=3.0->gradio) (1.2.2)\n",
            "Requirement already satisfied: starlette<0.39.0,>=0.37.2 in /usr/local/lib/python3.10/dist-packages (from fastapi<1.0->gradio) (0.38.5)\n",
            "Requirement already satisfied: certifi in /usr/local/lib/python3.10/dist-packages (from httpx>=0.24.1->gradio) (2024.8.30)\n",
            "Requirement already satisfied: httpcore==1.* in /usr/local/lib/python3.10/dist-packages (from httpx>=0.24.1->gradio) (1.0.5)\n",
            "Requirement already satisfied: h11<0.15,>=0.13 in /usr/local/lib/python3.10/dist-packages (from httpcore==1.*->httpx>=0.24.1->gradio) (0.14.0)\n",
            "Requirement already satisfied: filelock in /usr/local/lib/python3.10/dist-packages (from huggingface-hub>=0.19.3->gradio) (3.16.0)\n",
            "Requirement already satisfied: requests in /usr/local/lib/python3.10/dist-packages (from huggingface-hub>=0.19.3->gradio) (2.32.3)\n",
            "Requirement already satisfied: tqdm>=4.42.1 in /usr/local/lib/python3.10/dist-packages (from huggingface-hub>=0.19.3->gradio) (4.66.5)\n",
            "Requirement already satisfied: contourpy>=1.0.1 in /usr/local/lib/python3.10/dist-packages (from matplotlib~=3.0->gradio) (1.3.0)\n",
            "Requirement already satisfied: cycler>=0.10 in /usr/local/lib/python3.10/dist-packages (from matplotlib~=3.0->gradio) (0.12.1)\n",
            "Requirement already satisfied: fonttools>=4.22.0 in /usr/local/lib/python3.10/dist-packages (from matplotlib~=3.0->gradio) (4.53.1)\n",
            "Requirement already satisfied: kiwisolver>=1.0.1 in /usr/local/lib/python3.10/dist-packages (from matplotlib~=3.0->gradio) (1.4.7)\n",
            "Requirement already satisfied: pyparsing>=2.3.1 in /usr/local/lib/python3.10/dist-packages (from matplotlib~=3.0->gradio) (3.1.4)\n",
            "Requirement already satisfied: python-dateutil>=2.7 in /usr/local/lib/python3.10/dist-packages (from matplotlib~=3.0->gradio) (2.8.2)\n",
            "Requirement already satisfied: pytz>=2020.1 in /usr/local/lib/python3.10/dist-packages (from pandas<3.0,>=1.0->gradio) (2024.2)\n",
            "Requirement already satisfied: tzdata>=2022.1 in /usr/local/lib/python3.10/dist-packages (from pandas<3.0,>=1.0->gradio) (2024.1)\n",
            "Requirement already satisfied: annotated-types>=0.6.0 in /usr/local/lib/python3.10/dist-packages (from pydantic>=2.0->gradio) (0.7.0)\n",
            "Requirement already satisfied: pydantic-core==2.23.3 in /usr/local/lib/python3.10/dist-packages (from pydantic>=2.0->gradio) (2.23.3)\n",
            "Requirement already satisfied: click>=8.0.0 in /usr/local/lib/python3.10/dist-packages (from typer<1.0,>=0.12->gradio) (8.1.7)\n",
            "Requirement already satisfied: shellingham>=1.3.0 in /usr/local/lib/python3.10/dist-packages (from typer<1.0,>=0.12->gradio) (1.5.4)\n",
            "Requirement already satisfied: rich>=10.11.0 in /usr/local/lib/python3.10/dist-packages (from typer<1.0,>=0.12->gradio) (13.8.1)\n",
            "Requirement already satisfied: six>=1.5 in /usr/local/lib/python3.10/dist-packages (from python-dateutil>=2.7->matplotlib~=3.0->gradio) (1.16.0)\n",
            "Requirement already satisfied: markdown-it-py>=2.2.0 in /usr/local/lib/python3.10/dist-packages (from rich>=10.11.0->typer<1.0,>=0.12->gradio) (3.0.0)\n",
            "Requirement already satisfied: pygments<3.0.0,>=2.13.0 in /usr/local/lib/python3.10/dist-packages (from rich>=10.11.0->typer<1.0,>=0.12->gradio) (2.16.1)\n",
            "Requirement already satisfied: charset-normalizer<4,>=2 in /usr/local/lib/python3.10/dist-packages (from requests->huggingface-hub>=0.19.3->gradio) (3.3.2)\n",
            "Requirement already satisfied: mdurl~=0.1 in /usr/local/lib/python3.10/dist-packages (from markdown-it-py>=2.2.0->rich>=10.11.0->typer<1.0,>=0.12->gradio) (0.1.2)\n"
          ]
        }
      ]
    },
    {
      "cell_type": "code",
      "source": [
        "import pandas as pd\n",
        "import gradio as gr\n",
        "import matplotlib.pyplot as plt\n",
        "from transformers import pipeline"
      ],
      "metadata": {
        "id": "SX5grYE9n0y8"
      },
      "execution_count": null,
      "outputs": []
    },
    {
      "cell_type": "markdown",
      "source": [
        "# 2. Text Classification Using Hugging Face"
      ],
      "metadata": {
        "id": "TEl7pUbnoE0c"
      }
    },
    {
      "cell_type": "code",
      "source": [
        "classifier = pipeline('sentiment-analysis', model='distilbert-base-uncased-finetuned-sst-2-english')"
      ],
      "metadata": {
        "colab": {
          "base_uri": "https://localhost:8080/"
        },
        "id": "z0WsgIk4oGUB",
        "outputId": "576aee70-4d02-4b03-e3b6-f9bd853245ba"
      },
      "execution_count": null,
      "outputs": [
        {
          "output_type": "stream",
          "name": "stderr",
          "text": [
            "/usr/local/lib/python3.10/dist-packages/transformers/tokenization_utils_base.py:1601: FutureWarning: `clean_up_tokenization_spaces` was not set. It will be set to `True` by default. This behavior will be depracted in transformers v4.45, and will be then set to `False` by default. For more details check this issue: https://github.com/huggingface/transformers/issues/31884\n",
            "  warnings.warn(\n"
          ]
        }
      ]
    },
    {
      "cell_type": "markdown",
      "source": [
        "# 3. Creating a Workout DataFrame\n"
      ],
      "metadata": {
        "id": "X4B3OeGjpqyZ"
      }
    },
    {
      "cell_type": "code",
      "source": [
        "# Define workout recommendations based on mood and time of day\n",
        "data = {\n",
        "    'Mood': ['POSITIVE', 'NEGATIVE'],\n",
        "    'Morning': ['Yoga', 'Stretching'],\n",
        "    'Afternoon': ['HIIT', 'Strength Training'],\n",
        "    'Evening': ['Meditation', 'Relaxing Walk']\n",
        "}\n",
        "\n",
        "# Convert to DataFrame\n",
        "workout_df = pd.DataFrame(data)"
      ],
      "metadata": {
        "id": "JgrDbXKbpsLd"
      },
      "execution_count": null,
      "outputs": []
    },
    {
      "cell_type": "markdown",
      "source": [
        "# Gradio Interface"
      ],
      "metadata": {
        "id": "AFUmSgYWp1Dq"
      }
    },
    {
      "cell_type": "code",
      "source": [
        "df = pd.DataFrame(columns=['Mood', 'Morning', 'Afternoon', 'Evening'])\n",
        "\n",
        "def analyze_sentiment(text):\n",
        "    result = classifier(text)[0]\n",
        "    print(f\"Classifier result: {result}\")\n",
        "    return result['label']\n",
        "\n",
        "def recommend_workout(sentiment, time_of_day):\n",
        "    time_of_day_mapping = {\n",
        "        'morning': 'Morning',\n",
        "        'afternoon': 'Afternoon',\n",
        "        'evening': 'Evening'\n",
        "    }\n",
        "    time_of_day_formatted = time_of_day_mapping[time_of_day.lower()]\n",
        "    workout = workout_df.loc[workout_df['Mood'] == sentiment, time_of_day_formatted].values\n",
        "    return workout[0] if workout.size > 0 else \"No workout found\"\n",
        "\n",
        "def append_user_input(df, sentiment, time_of_day, workout):\n",
        "    time_of_day_mapping = {\n",
        "        'morning': 'Morning',\n",
        "        'afternoon': 'Afternoon',\n",
        "        'evening': 'Evening'\n",
        "    }\n",
        "    time_of_day_formatted = time_of_day_mapping[time_of_day.lower()]\n",
        "    new_row = pd.DataFrame([{'Mood': sentiment, 'Morning': None, 'Afternoon': None, 'Evening': None}])\n",
        "    new_row[time_of_day_formatted] = workout\n",
        "    df = pd.concat([df, new_row], ignore_index=True)\n",
        "    return df\n",
        "\n",
        "def process_input(mood_description, time_of_day):\n",
        "    sentiment = analyze_sentiment(mood_description)\n",
        "    recommended_workout = recommend_workout(sentiment, time_of_day)\n",
        "\n",
        "    # Define color palette based on time of day and sentiment\n",
        "    colors = {\n",
        "        'morning': {'POSITIVE': 'yellow', 'NEGATIVE': 'darkorange'},\n",
        "        'afternoon': {'POSITIVE': 'lightblue', 'NEGATIVE': 'darkblue'},\n",
        "        'evening': {'POSITIVE': 'lightpink', 'NEGATIVE': 'red'}\n",
        "    }\n",
        "\n",
        "    time_color_map = colors[time_of_day.lower()]\n",
        "    sentiment_color = time_color_map.get(sentiment, 'gray')\n",
        "\n",
        "    # Append user input to the DataFrame\n",
        "    global df\n",
        "    df = append_user_input(df, sentiment, time_of_day, recommended_workout)\n",
        "\n",
        "    # Return a styled string with the workout recommendation\n",
        "    return f\"<span style='color:{sentiment_color}; font-size:20px;'>Recommended workout: {recommended_workout}</span>\"\n",
        "\n",
        "# Gradio interface\n",
        "def gradio_interface():\n",
        "    with gr.Blocks() as demo:\n",
        "        gr.Markdown(\"\"\"\n",
        "        <h1 style='text-align: center;'>Personalized Workout Recommender System</h1>\n",
        "        <p style='text-align: center;'>This system suggests personalized workouts based on your mood and the time of day. Enter your mood and time to get a workout recommendation, or explore visualizations of mood trends and workout preferences over time.</p>\n",
        "        \"\"\")\n",
        "\n",
        "        mood_description = gr.Textbox(label=\"Describe your day:\", placeholder=\"e.g., I had a good day\")\n",
        "        time_of_day = gr.Dropdown(choices=[\"Morning\", \"Afternoon\", \"Evening\"], label=\"Time of Day\")\n",
        "        output = gr.HTML(label=\"Recommended Workout\")\n",
        "\n",
        "        submit_button = gr.Button(\"Get Recommendation\")\n",
        "        submit_button.click(fn=process_input, inputs=[mood_description, time_of_day], outputs=output)\n",
        "\n",
        "    return demo\n",
        "\n",
        "# Launch the Gradio app\n",
        "gradio_interface().launch()"
      ],
      "metadata": {
        "colab": {
          "base_uri": "https://localhost:8080/",
          "height": 625
        },
        "id": "c9Mu60x0qUQP",
        "outputId": "303e113b-7011-458c-a152-742be7ba4f9f"
      },
      "execution_count": null,
      "outputs": [
        {
          "output_type": "stream",
          "name": "stdout",
          "text": [
            "Setting queue=True in a Colab notebook requires sharing enabled. Setting `share=True` (you can turn this off by setting `share=False` in `launch()` explicitly).\n",
            "\n",
            "Colab notebook detected. To show errors in colab notebook, set debug=True in launch()\n",
            "Running on public URL: https://fb1ab8f90fc940eb7b.gradio.live\n",
            "\n",
            "This share link expires in 72 hours. For free permanent hosting and GPU upgrades, run `gradio deploy` from Terminal to deploy to Spaces (https://huggingface.co/spaces)\n"
          ]
        },
        {
          "output_type": "display_data",
          "data": {
            "text/plain": [
              "<IPython.core.display.HTML object>"
            ],
            "text/html": [
              "<div><iframe src=\"https://fb1ab8f90fc940eb7b.gradio.live\" width=\"100%\" height=\"500\" allow=\"autoplay; camera; microphone; clipboard-read; clipboard-write;\" frameborder=\"0\" allowfullscreen></iframe></div>"
            ]
          },
          "metadata": {}
        },
        {
          "output_type": "execute_result",
          "data": {
            "text/plain": []
          },
          "metadata": {},
          "execution_count": 14
        }
      ]
    },
    {
      "cell_type": "code",
      "source": [
        "import matplotlib.pyplot as plt\n",
        "import io\n",
        "import base64\n",
        "\n",
        "def generate_time_graph():\n",
        "    # Create a graph for time of day\n",
        "    time_counts = df[['Mood', 'Morning', 'Afternoon', 'Evening']].count()\n",
        "\n",
        "    fig, ax = plt.subplots()\n",
        "\n",
        "    # Define colors for each time of day\n",
        "    colors = {\n",
        "        'Morning': 'yellow',\n",
        "        'Afternoon': 'blue',\n",
        "        'Evening': 'pink'\n",
        "    }\n",
        "\n",
        "    # Plot bars with respective colors\n",
        "    bars = ax.bar(time_counts.index[1:], time_counts[1:], color=[colors.get(time, 'gray') for time in time_counts.index[1:]])\n",
        "    ax.set_title('Workouts by Time of Day')\n",
        "    ax.set_xlabel('Time of Day')\n",
        "    ax.set_ylabel('Count')\n",
        "\n",
        "    # Save plot to a BytesIO object and encode it as a base64 string\n",
        "    buf = io.BytesIO()\n",
        "    plt.savefig(buf, format='png')\n",
        "    buf.seek(0)\n",
        "    img_base64 = base64.b64encode(buf.getvalue()).decode('utf-8')\n",
        "    buf.close()\n",
        "\n",
        "    return f\"<img src='data:image/png;base64,{img_base64}'/>\"\n",
        "\n",
        "def generate_mood_graph():\n",
        "    # Create a graph for mood distribution\n",
        "    mood_counts = df['Mood'].value_counts()\n",
        "\n",
        "    fig, ax = plt.subplots()\n",
        "\n",
        "    # Define colors for each mood\n",
        "    mood_colors = {\n",
        "        'POSITIVE': 'lightgreen',\n",
        "        'NEGATIVE': 'lightcoral'\n",
        "    }\n",
        "\n",
        "    # Plot bars with respective colors\n",
        "    bars = ax.bar(mood_counts.index, mood_counts.values, color=[mood_colors.get(mood, 'gray') for mood in mood_counts.index])\n",
        "    ax.set_title('Mood Distribution')\n",
        "    ax.set_xlabel('Mood')\n",
        "    ax.set_ylabel('Count')\n",
        "\n",
        "    # Save plot to a BytesIO object and encode it as a base64 string\n",
        "    buf = io.BytesIO()\n",
        "    plt.savefig(buf, format='png')\n",
        "    buf.seek(0)\n",
        "    img_base64 = base64.b64encode(buf.getvalue()).decode('utf-8')\n",
        "    buf.close()\n",
        "\n",
        "    return f\"<img src='data:image/png;base64,{img_base64}'/>\"\n",
        "\n",
        "def gradio_interface():\n",
        "    with gr.Blocks() as demo:\n",
        "        gr.Markdown(\"\"\"\n",
        "        <h1 style='text-align: center;'>Personalized Workout Recommender System</h1>\n",
        "        <p style='text-align: center;'>This system suggests personalized workouts based on your mood and the time of day. Enter your mood and time to get a workout recommendation, or explore visualizations of mood trends and workout preferences over time.</p>\n",
        "        \"\"\")\n",
        "\n",
        "        with gr.Tab(\"Workout Recommendation\"):\n",
        "            mood_description = gr.Textbox(label=\"Describe your day:\", placeholder=\"e.g., I had a long and stressful day\")\n",
        "            time_of_day = gr.Dropdown(choices=[\"Morning\", \"Afternoon\", \"Evening\"], label=\"Time of Day\")\n",
        "            output = gr.HTML(label=\"Recommended Workout\")\n",
        "\n",
        "            submit_button = gr.Button(\"Get Recommendation\")\n",
        "            submit_button.click(fn=process_input, inputs=[mood_description, time_of_day], outputs=output)\n",
        "\n",
        "        with gr.Tab(\"Graphs\"):\n",
        "            graph_type = gr.Radio(choices=[\"Time Graph\", \"Mood Graph\"], label=\"Select Graph\")\n",
        "            graph_output = gr.HTML(label=\"Graph\")\n",
        "\n",
        "            def update_graph(selected_graph):\n",
        "                if selected_graph == \"Time Graph\":\n",
        "                    return generate_time_graph()\n",
        "                elif selected_graph == \"Mood Graph\":\n",
        "                    return generate_mood_graph()\n",
        "\n",
        "            graph_type.change(fn=update_graph, inputs=graph_type, outputs=graph_output)\n",
        "\n",
        "    return demo\n",
        "\n",
        "# Launch the Gradio app\n",
        "gradio_interface().launch()\n",
        "\n"
      ],
      "metadata": {
        "colab": {
          "base_uri": "https://localhost:8080/",
          "height": 625
        },
        "id": "AJ42Kwy7xYI4",
        "outputId": "c6239b50-5060-4304-b2ce-dc331b22533c"
      },
      "execution_count": null,
      "outputs": [
        {
          "output_type": "stream",
          "name": "stdout",
          "text": [
            "Setting queue=True in a Colab notebook requires sharing enabled. Setting `share=True` (you can turn this off by setting `share=False` in `launch()` explicitly).\n",
            "\n",
            "Colab notebook detected. To show errors in colab notebook, set debug=True in launch()\n",
            "Running on public URL: https://b2133012af897a61b2.gradio.live\n",
            "\n",
            "This share link expires in 72 hours. For free permanent hosting and GPU upgrades, run `gradio deploy` from Terminal to deploy to Spaces (https://huggingface.co/spaces)\n"
          ]
        },
        {
          "output_type": "display_data",
          "data": {
            "text/plain": [
              "<IPython.core.display.HTML object>"
            ],
            "text/html": [
              "<div><iframe src=\"https://b2133012af897a61b2.gradio.live\" width=\"100%\" height=\"500\" allow=\"autoplay; camera; microphone; clipboard-read; clipboard-write;\" frameborder=\"0\" allowfullscreen></iframe></div>"
            ]
          },
          "metadata": {}
        },
        {
          "output_type": "execute_result",
          "data": {
            "text/plain": []
          },
          "metadata": {},
          "execution_count": 15
        }
      ]
    },
    {
      "cell_type": "code",
      "source": [
        "def print_dataframe(df):\n",
        "    print(\"\\nUpdated Workout DataFrame:\")\n",
        "    print(df)\n",
        "print_dataframe(df)"
      ],
      "metadata": {
        "colab": {
          "base_uri": "https://localhost:8080/"
        },
        "id": "_4wZ3v73x26V",
        "outputId": "bfa7ace2-244b-4020-8aba-8c10ba53542f"
      },
      "execution_count": 18,
      "outputs": [
        {
          "output_type": "stream",
          "name": "stdout",
          "text": [
            "\n",
            "Updated Workout DataFrame:\n",
            "       Mood     Morning Afternoon        Evening\n",
            "0  POSITIVE        None      HIIT           None\n",
            "1  POSITIVE        None      None     Meditation\n",
            "2  NEGATIVE        None      None  Relaxing Walk\n",
            "3  POSITIVE        None      None     Meditation\n",
            "4  POSITIVE        Yoga      None           None\n",
            "5  NEGATIVE  Stretching      None           None\n"
          ]
        }
      ]
    }
  ]
}